{
  "nbformat": 4,
  "nbformat_minor": 0,
  "metadata": {
    "colab": {
      "provenance": [],
      "authorship_tag": "ABX9TyNmOlwwkhbazmWISUg+y4UE",
      "include_colab_link": true
    },
    "kernelspec": {
      "name": "python3",
      "display_name": "Python 3"
    },
    "language_info": {
      "name": "python"
    }
  },
  "cells": [
    {
      "cell_type": "markdown",
      "metadata": {
        "id": "view-in-github",
        "colab_type": "text"
      },
      "source": [
        "<a href=\"https://colab.research.google.com/github/M-JiYeon/TIL/blob/main/Python/Python%EC%97%B0%EC%8A%B5.ipynb\" target=\"_parent\"><img src=\"https://colab.research.google.com/assets/colab-badge.svg\" alt=\"Open In Colab\"/></a>"
      ]
    },
    {
      "cell_type": "markdown",
      "source": [
        "## 초보자를 위한 파이썬 300제"
      ],
      "metadata": {
        "id": "_mhfIQg3SrVo"
      }
    },
    {
      "cell_type": "markdown",
      "source": [
        "* https://wikidocs.net/book/922"
      ],
      "metadata": {
        "id": "LN5iSnLUSywJ"
      }
    },
    {
      "cell_type": "markdown",
      "source": [
        "### 파이썬 시작하기 001 ~ 010\n"
      ],
      "metadata": {
        "id": "0lFdhZ-eUvl3"
      }
    },
    {
      "cell_type": "markdown",
      "source": [
        "* https://wikidocs.net/7014"
      ],
      "metadata": {
        "id": "Evav9_PZUzX3"
      }
    },
    {
      "cell_type": "code",
      "source": [
        "# 001\n",
        "print('Hello World')"
      ],
      "metadata": {
        "colab": {
          "base_uri": "https://localhost:8080/"
        },
        "id": "qVpvz0bzNley",
        "outputId": "8c33fb30-402b-41b0-c800-cc917774342f"
      },
      "execution_count": null,
      "outputs": [
        {
          "output_type": "stream",
          "name": "stdout",
          "text": [
            "Hello World\n"
          ]
        }
      ]
    },
    {
      "cell_type": "code",
      "source": [
        "# 002\n",
        "print(\"Mary\\'s cosmetices\")"
      ],
      "metadata": {
        "colab": {
          "base_uri": "https://localhost:8080/"
        },
        "id": "3lMMXCNbNnuU",
        "outputId": "c13cfee1-d5e1-48c0-ab66-a9cf0461d7ed"
      },
      "execution_count": null,
      "outputs": [
        {
          "output_type": "stream",
          "name": "stdout",
          "text": [
            "Mary's cosmetices\n"
          ]
        }
      ]
    },
    {
      "cell_type": "code",
      "source": [
        "# 003\n",
        "print('신씨가 소리질렀다. \"도둑이야\".')"
      ],
      "metadata": {
        "colab": {
          "base_uri": "https://localhost:8080/"
        },
        "id": "Gp5nZXYWN9dR",
        "outputId": "6824d4fe-442f-4bd5-b7e1-21c26614e024"
      },
      "execution_count": null,
      "outputs": [
        {
          "output_type": "stream",
          "name": "stdout",
          "text": [
            "신씨가 소리질렀다. \"도둑이야\".\n"
          ]
        }
      ]
    },
    {
      "cell_type": "code",
      "source": [
        "# 004\n",
        "print('\"C:\\Windows\"')"
      ],
      "metadata": {
        "colab": {
          "base_uri": "https://localhost:8080/"
        },
        "id": "wGze86XFOF-7",
        "outputId": "4897195e-fd28-4cb8-e0a6-0bac830a3376"
      },
      "execution_count": null,
      "outputs": [
        {
          "output_type": "stream",
          "name": "stdout",
          "text": [
            "\"C:\\Windows\"\n"
          ]
        }
      ]
    },
    {
      "cell_type": "code",
      "source": [
        "# 005\n",
        "print(\"안녕하세요.\\n만나서\\t\\t반갑습니다\")"
      ],
      "metadata": {
        "colab": {
          "base_uri": "https://localhost:8080/"
        },
        "id": "4YQG1kUAOXb-",
        "outputId": "1b7c955b-3d3c-4439-afcd-aa36a19d5afc"
      },
      "execution_count": null,
      "outputs": [
        {
          "output_type": "stream",
          "name": "stdout",
          "text": [
            "안녕하세요.\n",
            "만나서\t\t반갑습니다\n"
          ]
        }
      ]
    },
    {
      "cell_type": "code",
      "source": [
        "# 006\n",
        "print(\"오늘은\", \"일요일\")"
      ],
      "metadata": {
        "colab": {
          "base_uri": "https://localhost:8080/"
        },
        "id": "KrEturZWOTGs",
        "outputId": "b89d788c-9e3f-4e0f-fc10-0c934641fbc1"
      },
      "execution_count": null,
      "outputs": [
        {
          "output_type": "stream",
          "name": "stdout",
          "text": [
            "오늘은 일요일\n"
          ]
        }
      ]
    },
    {
      "cell_type": "code",
      "source": [
        "# 007\n",
        "print('naver;kakao;sk;samsung')\n",
        "print('naver', 'kakao', 'sk', 'samsung', sep=';')"
      ],
      "metadata": {
        "colab": {
          "base_uri": "https://localhost:8080/"
        },
        "id": "zCK_zjKKU9tQ",
        "outputId": "313fe629-e41e-4fef-dd71-843352dc0deb"
      },
      "execution_count": 1,
      "outputs": [
        {
          "output_type": "stream",
          "name": "stdout",
          "text": [
            "naver;kakao;sk;samsung\n",
            "naver;kakao;sk;samsung\n"
          ]
        }
      ]
    },
    {
      "cell_type": "code",
      "source": [
        "# 008\n",
        "print('naver/kakao/sk/samsung')\n",
        "print('naver', 'kakao', 'sk', 'samsung', sep='/')"
      ],
      "metadata": {
        "colab": {
          "base_uri": "https://localhost:8080/"
        },
        "id": "kfHhfA6uORpf",
        "outputId": "9510628b-5c03-480e-ea98-503e4859c876"
      },
      "execution_count": 2,
      "outputs": [
        {
          "output_type": "stream",
          "name": "stdout",
          "text": [
            "naver/kakao/sk/samsung\n",
            "naver/kakao/sk/samsung\n"
          ]
        }
      ]
    },
    {
      "cell_type": "code",
      "source": [
        "# 009\n",
        "print(\"first\", end='');print(\"second\")"
      ],
      "metadata": {
        "colab": {
          "base_uri": "https://localhost:8080/"
        },
        "id": "XZg2nriQPN4a",
        "outputId": "b8da5377-3777-47c9-992f-fd2b600ded24"
      },
      "execution_count": null,
      "outputs": [
        {
          "output_type": "stream",
          "name": "stdout",
          "text": [
            "firstsecond\n"
          ]
        }
      ]
    },
    {
      "cell_type": "code",
      "source": [
        "# 010\n",
        "print(5/3)"
      ],
      "metadata": {
        "colab": {
          "base_uri": "https://localhost:8080/"
        },
        "id": "3FhiOxbqPb7m",
        "outputId": "a88423d4-1925-4554-e656-8f8288da3607"
      },
      "execution_count": null,
      "outputs": [
        {
          "output_type": "execute_result",
          "data": {
            "text/plain": [
              "1.6666666666666667"
            ]
          },
          "metadata": {},
          "execution_count": 16
        }
      ]
    },
    {
      "cell_type": "markdown",
      "source": [
        "### 파이썬 변수 011 ~ 020"
      ],
      "metadata": {
        "id": "j4Q-p5oCVba-"
      }
    },
    {
      "cell_type": "markdown",
      "source": [
        "* https://wikidocs.net/7021"
      ],
      "metadata": {
        "id": "Fh9Tnk8YXWoW"
      }
    },
    {
      "cell_type": "code",
      "source": [
        "# 011\n",
        "삼성전자 = 50000\n",
        "print(f'총 평가금액 : {삼성전자 * 10}')\n",
        "print('총 평가금액 :', 삼성전자 * 10)\n",
        "print('총 평가금액 :' + str(삼성전자 * 10))"
      ],
      "metadata": {
        "colab": {
          "base_uri": "https://localhost:8080/"
        },
        "id": "Q25qhzXbPlfy",
        "outputId": "98d813c6-141d-4a84-d7be-82f053b5a841"
      },
      "execution_count": 3,
      "outputs": [
        {
          "output_type": "stream",
          "name": "stdout",
          "text": [
            "총 평가금액 : 500000\n",
            "총 평가금액 : 500000\n",
            "총 평가금액 :500000\n"
          ]
        }
      ]
    },
    {
      "cell_type": "code",
      "source": [
        "# 012\n",
        "시가총액 = 298000000000000\n",
        "현재가 = 50000\n",
        "PER = 15.97\n",
        "print(시가총액, type(시가총액))\n",
        "print(현재가, type(현재가))\n",
        "print(PER, type(PER))"
      ],
      "metadata": {
        "id": "Iui5mn3iQJe5",
        "colab": {
          "base_uri": "https://localhost:8080/"
        },
        "outputId": "0c1e179b-c22f-4770-c7ac-66c6672a955a"
      },
      "execution_count": 5,
      "outputs": [
        {
          "output_type": "stream",
          "name": "stdout",
          "text": [
            "298000000000000 <class 'int'>\n",
            "50000 <class 'int'>\n",
            "15.97 <class 'float'>\n"
          ]
        }
      ]
    },
    {
      "cell_type": "code",
      "source": [
        "# 013\n",
        "s = 'hello'\n",
        "t = 'python'\n",
        "\n",
        "print(s, t, sep='! ')\n",
        "print(s, '!', t)\n",
        "print(s+ '! '+ t)"
      ],
      "metadata": {
        "colab": {
          "base_uri": "https://localhost:8080/"
        },
        "id": "XlBw3MiEQiUb",
        "outputId": "0c68e528-fdae-439a-b83a-b32c0c07222a"
      },
      "execution_count": null,
      "outputs": [
        {
          "output_type": "stream",
          "name": "stdout",
          "text": [
            "hello! python\n",
            "hello ! python\n",
            "hello! python\n"
          ]
        }
      ]
    },
    {
      "cell_type": "code",
      "source": [
        "# 014\n",
        "print(2 + 2 * 3)"
      ],
      "metadata": {
        "colab": {
          "base_uri": "https://localhost:8080/"
        },
        "id": "UsJmL6ZhX_fg",
        "outputId": "4a4d483d-8b39-4dac-c2af-017fb904f411"
      },
      "execution_count": 6,
      "outputs": [
        {
          "output_type": "stream",
          "name": "stdout",
          "text": [
            "8\n"
          ]
        }
      ]
    },
    {
      "cell_type": "code",
      "source": [
        "# 015\n",
        "a = '132'\n",
        "type(a)"
      ],
      "metadata": {
        "colab": {
          "base_uri": "https://localhost:8080/"
        },
        "id": "3gNL2gXWQnIV",
        "outputId": "f3ac238d-5c40-47f2-9a75-ee5aa64cc50f"
      },
      "execution_count": null,
      "outputs": [
        {
          "output_type": "execute_result",
          "data": {
            "text/plain": [
              "str"
            ]
          },
          "metadata": {},
          "execution_count": 29
        }
      ]
    },
    {
      "cell_type": "code",
      "source": [
        "# 016\n",
        "num_str = '720'\n",
        "int(num_str), type(int(num_str))"
      ],
      "metadata": {
        "colab": {
          "base_uri": "https://localhost:8080/"
        },
        "id": "eaXowCuZRiml",
        "outputId": "a044f5c6-766a-4ea3-f096-3cf4e5c4850e"
      },
      "execution_count": 7,
      "outputs": [
        {
          "output_type": "execute_result",
          "data": {
            "text/plain": [
              "(720, int)"
            ]
          },
          "metadata": {},
          "execution_count": 7
        }
      ]
    },
    {
      "cell_type": "code",
      "source": [
        "# 017\n",
        "num = 100\n",
        "str(num), type(str(num))"
      ],
      "metadata": {
        "colab": {
          "base_uri": "https://localhost:8080/"
        },
        "id": "YAInLoZdRo4t",
        "outputId": "f2d0dc97-e45f-4bdb-b740-3818c4a3fc8f"
      },
      "execution_count": 8,
      "outputs": [
        {
          "output_type": "execute_result",
          "data": {
            "text/plain": [
              "('100', str)"
            ]
          },
          "metadata": {},
          "execution_count": 8
        }
      ]
    },
    {
      "cell_type": "code",
      "source": [
        "# 018\n",
        "f = '15.97'\n",
        "float(f), type(float(f))"
      ],
      "metadata": {
        "colab": {
          "base_uri": "https://localhost:8080/"
        },
        "id": "w1xU32LVRvj3",
        "outputId": "790dd0bb-6695-4110-b5fa-623fa0b3bca1"
      },
      "execution_count": 9,
      "outputs": [
        {
          "output_type": "execute_result",
          "data": {
            "text/plain": [
              "(15.97, float)"
            ]
          },
          "metadata": {},
          "execution_count": 9
        }
      ]
    },
    {
      "cell_type": "code",
      "source": [
        "# 019\n",
        "year = '2020'\n",
        "years = int(year)\n",
        "print(years-3, years-2, years-1)"
      ],
      "metadata": {
        "colab": {
          "base_uri": "https://localhost:8080/"
        },
        "id": "TIgOfmgJR-bz",
        "outputId": "76e77667-3489-47ba-8d73-eff0b40dcbb2"
      },
      "execution_count": null,
      "outputs": [
        {
          "output_type": "stream",
          "name": "stdout",
          "text": [
            "2017 2018 2019\n"
          ]
        }
      ]
    },
    {
      "cell_type": "code",
      "source": [
        "# 020\n",
        "price = 48584\n",
        "month = 36\n",
        "total = price * month\n",
        "\n",
        "print(total)"
      ],
      "metadata": {
        "colab": {
          "base_uri": "https://localhost:8080/"
        },
        "id": "w7kWy1sISRBr",
        "outputId": "96c3750a-d76d-47a6-fc9e-39b5d678e31b"
      },
      "execution_count": null,
      "outputs": [
        {
          "output_type": "stream",
          "name": "stdout",
          "text": [
            "1749024\n"
          ]
        }
      ]
    },
    {
      "cell_type": "markdown",
      "source": [
        "### 파이썬 문자열 021 ~ 050"
      ],
      "metadata": {
        "id": "FaQUQkxsYx1d"
      }
    },
    {
      "cell_type": "markdown",
      "source": [
        "* https://wikidocs.net/7022\n",
        "* https://wikidocs.net/7024\n",
        "* https://wikidocs.net/78558"
      ],
      "metadata": {
        "id": "SDz9qKvYY8jt"
      }
    },
    {
      "cell_type": "code",
      "source": [
        "# 021\n",
        "letters = 'python'\n",
        "print(letters[0], letters[2])"
      ],
      "metadata": {
        "id": "maHdqaFjSj59",
        "colab": {
          "base_uri": "https://localhost:8080/"
        },
        "outputId": "4cc40721-aca5-4b28-ee6c-4628f663909b"
      },
      "execution_count": 10,
      "outputs": [
        {
          "output_type": "stream",
          "name": "stdout",
          "text": [
            "p t\n"
          ]
        }
      ]
    },
    {
      "cell_type": "code",
      "source": [
        "# 022\n",
        "license_plate='24가 2210'\n",
        "print(license_plate[-4:])"
      ],
      "metadata": {
        "colab": {
          "base_uri": "https://localhost:8080/"
        },
        "id": "iTs2RY4AZ4xb",
        "outputId": "ccbde9b2-8838-4ae7-905e-f3269dbf2420"
      },
      "execution_count": 16,
      "outputs": [
        {
          "output_type": "stream",
          "name": "stdout",
          "text": [
            "2210\n",
            "24가 221\n"
          ]
        }
      ]
    },
    {
      "cell_type": "code",
      "source": [
        "# 023\n",
        "string = '홀짝홀짝홀짝'\n",
        "print(string[::2])"
      ],
      "metadata": {
        "colab": {
          "base_uri": "https://localhost:8080/"
        },
        "id": "kVUKi0a-aj1l",
        "outputId": "f234a2d9-99a2-4ad7-c8e7-b3eb6eca4053"
      },
      "execution_count": 23,
      "outputs": [
        {
          "output_type": "stream",
          "name": "stdout",
          "text": [
            "홀홀홀\n"
          ]
        }
      ]
    },
    {
      "cell_type": "code",
      "source": [
        "# 024\n",
        "string = 'PYTHON'\n",
        "print(string[::-1])"
      ],
      "metadata": {
        "colab": {
          "base_uri": "https://localhost:8080/"
        },
        "id": "0TBS8CoAbeeN",
        "outputId": "782795ee-e5cb-459f-e911-42d224bd71d4"
      },
      "execution_count": 24,
      "outputs": [
        {
          "output_type": "stream",
          "name": "stdout",
          "text": [
            "NOHTYP\n"
          ]
        }
      ]
    },
    {
      "cell_type": "code",
      "source": [
        "# 025\n",
        "phone_number = '010-1111-2222'\n",
        "print(phone_number.replace('-', ' '))"
      ],
      "metadata": {
        "colab": {
          "base_uri": "https://localhost:8080/"
        },
        "id": "ZBik6_DGcCaC",
        "outputId": "732043c7-f56b-4538-e93e-73cf6aa96e4e"
      },
      "execution_count": 26,
      "outputs": [
        {
          "output_type": "stream",
          "name": "stdout",
          "text": [
            "010 1111 2222\n"
          ]
        }
      ]
    },
    {
      "cell_type": "code",
      "source": [
        "# 026\n",
        "phone_number = '010-1111-2222'\n",
        "print(phone_number.replace('-', ''))"
      ],
      "metadata": {
        "colab": {
          "base_uri": "https://localhost:8080/"
        },
        "id": "d_QVwjnCck-y",
        "outputId": "302e7728-53a3-414b-9dd1-a810a7423e33"
      },
      "execution_count": 27,
      "outputs": [
        {
          "output_type": "stream",
          "name": "stdout",
          "text": [
            "01011112222\n"
          ]
        }
      ]
    },
    {
      "cell_type": "code",
      "source": [
        "# 027\n",
        "url = 'http://sharebook.kr'\n",
        "print(url.split('.'))\n",
        "print(url.split('.')[1])"
      ],
      "metadata": {
        "colab": {
          "base_uri": "https://localhost:8080/"
        },
        "id": "viIxkKxFcuOm",
        "outputId": "ff88fe41-de21-4484-d407-85b9caa8bb9d"
      },
      "execution_count": 30,
      "outputs": [
        {
          "output_type": "stream",
          "name": "stdout",
          "text": [
            "['http://sharebook', 'kr']\n",
            "kr\n"
          ]
        }
      ]
    },
    {
      "cell_type": "code",
      "source": [
        "# 028\n",
        "lang = 'python'\n",
        "lang[0] = 'P' # error. 문자열은 수정 불가\n",
        "print(lang)"
      ],
      "metadata": {
        "colab": {
          "base_uri": "https://localhost:8080/",
          "height": 225
        },
        "id": "kzk1LBW6eO55",
        "outputId": "a7cb4de7-33ff-471d-c58b-d28bb34c9cb5"
      },
      "execution_count": 31,
      "outputs": [
        {
          "output_type": "error",
          "ename": "TypeError",
          "evalue": "ignored",
          "traceback": [
            "\u001b[0;31m---------------------------------------------------------------------------\u001b[0m",
            "\u001b[0;31mTypeError\u001b[0m                                 Traceback (most recent call last)",
            "\u001b[0;32m<ipython-input-31-16e89ae101a5>\u001b[0m in \u001b[0;36m<cell line: 3>\u001b[0;34m()\u001b[0m\n\u001b[1;32m      1\u001b[0m \u001b[0;31m# 028\u001b[0m\u001b[0;34m\u001b[0m\u001b[0;34m\u001b[0m\u001b[0m\n\u001b[1;32m      2\u001b[0m \u001b[0mlang\u001b[0m \u001b[0;34m=\u001b[0m \u001b[0;34m'python'\u001b[0m\u001b[0;34m\u001b[0m\u001b[0;34m\u001b[0m\u001b[0m\n\u001b[0;32m----> 3\u001b[0;31m \u001b[0mlang\u001b[0m\u001b[0;34m[\u001b[0m\u001b[0;36m0\u001b[0m\u001b[0;34m]\u001b[0m \u001b[0;34m=\u001b[0m \u001b[0;34m'P'\u001b[0m\u001b[0;34m\u001b[0m\u001b[0;34m\u001b[0m\u001b[0m\n\u001b[0m\u001b[1;32m      4\u001b[0m \u001b[0mprint\u001b[0m\u001b[0;34m(\u001b[0m\u001b[0mlang\u001b[0m\u001b[0;34m)\u001b[0m\u001b[0;34m\u001b[0m\u001b[0;34m\u001b[0m\u001b[0m\n",
            "\u001b[0;31mTypeError\u001b[0m: 'str' object does not support item assignment"
          ]
        }
      ]
    },
    {
      "cell_type": "code",
      "source": [
        "# 029\n",
        "string = 'abcdfe2a35432a'\n",
        "string = string.replace('a', 'A')\n",
        "print(string)"
      ],
      "metadata": {
        "colab": {
          "base_uri": "https://localhost:8080/"
        },
        "id": "lm_zSCz6esI7",
        "outputId": "e4e0ac90-4ce0-420b-a14e-516391a9ab07"
      },
      "execution_count": 35,
      "outputs": [
        {
          "output_type": "stream",
          "name": "stdout",
          "text": [
            "Abcdfe2A35432A\n"
          ]
        }
      ]
    },
    {
      "cell_type": "code",
      "source": [
        "# 030\n",
        "string = 'abcd'\n",
        "string.replace('b', 'B') # replace한 값을 저장하지 않음.\n",
        "print(string) # abcd"
      ],
      "metadata": {
        "colab": {
          "base_uri": "https://localhost:8080/"
        },
        "id": "J8DUKuR6e8jx",
        "outputId": "e117b2cd-396c-4762-8175-d013e82ad9fd"
      },
      "execution_count": 33,
      "outputs": [
        {
          "output_type": "stream",
          "name": "stdout",
          "text": [
            "abcd\n"
          ]
        }
      ]
    },
    {
      "cell_type": "code",
      "source": [
        "# 031\n",
        "a = '3'\n",
        "b = '4'\n",
        "print(a + b) # 34"
      ],
      "metadata": {
        "colab": {
          "base_uri": "https://localhost:8080/"
        },
        "id": "-MTucO7ygtJ8",
        "outputId": "e7e725a3-548b-4a11-d4d8-9185e53d7dbb"
      },
      "execution_count": 36,
      "outputs": [
        {
          "output_type": "stream",
          "name": "stdout",
          "text": [
            "34\n"
          ]
        }
      ]
    },
    {
      "cell_type": "code",
      "source": [
        "# 032\n",
        "print('Hi' * 3) # HiHiHi"
      ],
      "metadata": {
        "colab": {
          "base_uri": "https://localhost:8080/"
        },
        "id": "4FhVCGrzhZSk",
        "outputId": "f03e8b7b-023d-4d74-e996-e1e33f11929c"
      },
      "execution_count": 37,
      "outputs": [
        {
          "output_type": "stream",
          "name": "stdout",
          "text": [
            "HiHiHi\n"
          ]
        }
      ]
    },
    {
      "cell_type": "code",
      "source": [
        "# 033\n",
        "print('-' * 80)"
      ],
      "metadata": {
        "colab": {
          "base_uri": "https://localhost:8080/"
        },
        "id": "Np4pDFZUhokK",
        "outputId": "44efd218-ad07-4539-e89d-22225d50e07b"
      },
      "execution_count": 38,
      "outputs": [
        {
          "output_type": "stream",
          "name": "stdout",
          "text": [
            "--------------------------------------------------------------------------------\n"
          ]
        }
      ]
    },
    {
      "cell_type": "code",
      "source": [
        "# 034\n",
        "t1 = 'python'\n",
        "t2 = 'java'\n",
        "print((t1 + ' ' + t2 + ' ') * 4)"
      ],
      "metadata": {
        "colab": {
          "base_uri": "https://localhost:8080/"
        },
        "id": "p8HbKgh6hwqh",
        "outputId": "d380bd58-c9b7-49b4-9a43-c68ce0f1184d"
      },
      "execution_count": 41,
      "outputs": [
        {
          "output_type": "stream",
          "name": "stdout",
          "text": [
            "python java python java python java python java \n"
          ]
        }
      ]
    },
    {
      "cell_type": "code",
      "source": [
        "# 035\n",
        "name1 = '김민수'\n",
        "age1 = 10\n",
        "name2 = '이철희'\n",
        "age2 = 13\n",
        "print('이름: %s 나이: %d' %(name1, age1))\n",
        "print('이름: %s 나이: %d' %(name2, age2))"
      ],
      "metadata": {
        "colab": {
          "base_uri": "https://localhost:8080/"
        },
        "id": "C1r7q6CiizTW",
        "outputId": "b2668bdb-d1ab-4e83-e9fa-51631955cc6f"
      },
      "execution_count": 45,
      "outputs": [
        {
          "output_type": "stream",
          "name": "stdout",
          "text": [
            "이름: 김민수 나이: 10\n",
            "이름: 이철희 나이: 13\n"
          ]
        }
      ]
    },
    {
      "cell_type": "code",
      "source": [
        "# 036\n",
        "name1 = '김민수'\n",
        "age1 = 10\n",
        "name2 = '이철희'\n",
        "age2 = 13\n",
        "print('이름: {} 나이: {}'.format(name1, age1))\n",
        "print('이름: {} 나이: {}'.format(name2, age2))"
      ],
      "metadata": {
        "colab": {
          "base_uri": "https://localhost:8080/"
        },
        "id": "WWZ3V3egjrn9",
        "outputId": "3abf24ef-55e5-4d7b-cd93-a78c8fc86471"
      },
      "execution_count": 2,
      "outputs": [
        {
          "output_type": "stream",
          "name": "stdout",
          "text": [
            "이름: 김민수 나이: 10\n",
            "이름: 이철희 나이: 13\n"
          ]
        }
      ]
    },
    {
      "cell_type": "code",
      "source": [
        "# 037\n",
        "name1 = '김민수'\n",
        "age1 = 10\n",
        "name2 = '이철희'\n",
        "age2 = 13\n",
        "print(f'이름: {name1} 나이: {age1}')\n",
        "print(f'이름: {name2} 나이: {age2}')"
      ],
      "metadata": {
        "colab": {
          "base_uri": "https://localhost:8080/"
        },
        "id": "Lr8NIvBUsLw2",
        "outputId": "cfba2019-0860-4df7-e3fa-94c2005e06d9"
      },
      "execution_count": 3,
      "outputs": [
        {
          "output_type": "stream",
          "name": "stdout",
          "text": [
            "이름: 김민수 나이: 10\n",
            "이름: 이철희 나이: 13\n"
          ]
        }
      ]
    },
    {
      "cell_type": "code",
      "source": [
        "# 038\n",
        "상장주식수 = \"5,969,782,550\"\n",
        "상장주식수 = int(상장주식수.replace(',',''))\n",
        "print(상장주식수, type(상장주식수))"
      ],
      "metadata": {
        "colab": {
          "base_uri": "https://localhost:8080/"
        },
        "id": "mnfHUTClsd8F",
        "outputId": "2aa826e4-23ee-4bfa-b144-e620196392bd"
      },
      "execution_count": 5,
      "outputs": [
        {
          "output_type": "stream",
          "name": "stdout",
          "text": [
            "5969782550 <class 'int'>\n"
          ]
        }
      ]
    },
    {
      "cell_type": "code",
      "source": [
        "# 039\n",
        "분기 = \"2020/03(E) (IFRS연결)\"\n",
        "print(분기[:7])"
      ],
      "metadata": {
        "colab": {
          "base_uri": "https://localhost:8080/"
        },
        "id": "9e-uaFLntFec",
        "outputId": "7da187ec-0d6f-45f2-d323-7140b5d0f659"
      },
      "execution_count": 6,
      "outputs": [
        {
          "output_type": "stream",
          "name": "stdout",
          "text": [
            "2020/03\n"
          ]
        }
      ]
    },
    {
      "cell_type": "code",
      "source": [
        "# 040\n",
        "data = \"   삼성전자    \"\n",
        "print(data.strip())"
      ],
      "metadata": {
        "colab": {
          "base_uri": "https://localhost:8080/"
        },
        "id": "S6uxtHYRtGyO",
        "outputId": "31ec660f-23cb-440e-ab80-e387e2372668"
      },
      "execution_count": 7,
      "outputs": [
        {
          "output_type": "stream",
          "name": "stdout",
          "text": [
            "삼성전자\n"
          ]
        }
      ]
    },
    {
      "cell_type": "code",
      "source": [
        "# 041\n",
        "ticker = \"btc_krw\"\n",
        "print(ticker.upper())"
      ],
      "metadata": {
        "colab": {
          "base_uri": "https://localhost:8080/"
        },
        "id": "FL8-dvfRuwEr",
        "outputId": "df0dab73-7ad0-406b-bd1c-70f4bd9d6a6f"
      },
      "execution_count": 8,
      "outputs": [
        {
          "output_type": "stream",
          "name": "stdout",
          "text": [
            "BTC_KRW\n"
          ]
        }
      ]
    },
    {
      "cell_type": "code",
      "source": [
        "# 042\n",
        "ticker = \"BTC_KRW\"\n",
        "print(ticker.lower())"
      ],
      "metadata": {
        "colab": {
          "base_uri": "https://localhost:8080/"
        },
        "id": "3q2w_xnKuxyO",
        "outputId": "46d946aa-6203-421f-d182-effbb29b3a46"
      },
      "execution_count": 10,
      "outputs": [
        {
          "output_type": "stream",
          "name": "stdout",
          "text": [
            "btc_krw\n"
          ]
        }
      ]
    },
    {
      "cell_type": "code",
      "source": [
        "# 043\n",
        "string = 'hello'\n",
        "print(string.capitalize())"
      ],
      "metadata": {
        "colab": {
          "base_uri": "https://localhost:8080/"
        },
        "id": "2ModMtmIuxuJ",
        "outputId": "a3f22f33-279d-410c-8293-5a055fe73b6d"
      },
      "execution_count": 11,
      "outputs": [
        {
          "output_type": "stream",
          "name": "stdout",
          "text": [
            "Hello\n"
          ]
        }
      ]
    },
    {
      "cell_type": "code",
      "source": [
        "# 044\n",
        "file_name = \"보고서.xlsx\"\n",
        "print(file_name.endswith('xlsx'))"
      ],
      "metadata": {
        "colab": {
          "base_uri": "https://localhost:8080/"
        },
        "id": "_lgJHIWfuxpz",
        "outputId": "62659804-33c5-4a1e-dc00-3802ba8d583e"
      },
      "execution_count": 12,
      "outputs": [
        {
          "output_type": "stream",
          "name": "stdout",
          "text": [
            "True\n"
          ]
        }
      ]
    },
    {
      "cell_type": "code",
      "source": [
        "# 045\n",
        "file_name = \"보고서.xlsx\"\n",
        "print(file_name.endswith(('xlsx', 'xls')))"
      ],
      "metadata": {
        "colab": {
          "base_uri": "https://localhost:8080/"
        },
        "id": "eBVxs4nsuxlO",
        "outputId": "21f5b21f-2914-41ac-d157-aaef40a9bfbf"
      },
      "execution_count": 15,
      "outputs": [
        {
          "output_type": "stream",
          "name": "stdout",
          "text": [
            "True\n"
          ]
        }
      ]
    },
    {
      "cell_type": "code",
      "source": [
        "# 046\n",
        "file_name = \"2020_보고서.xlsx\"\n",
        "print(file_name.startswith('2020'))"
      ],
      "metadata": {
        "colab": {
          "base_uri": "https://localhost:8080/"
        },
        "id": "yTlQkpbHuxf0",
        "outputId": "911387ad-24da-47b8-d45f-af34e6b85d35"
      },
      "execution_count": 16,
      "outputs": [
        {
          "output_type": "stream",
          "name": "stdout",
          "text": [
            "True\n"
          ]
        }
      ]
    },
    {
      "cell_type": "code",
      "source": [
        "# 047\n",
        "a = \"hello world\"\n",
        "print(a.split()) # 아무 인자도 없으면 공백 기준"
      ],
      "metadata": {
        "colab": {
          "base_uri": "https://localhost:8080/"
        },
        "id": "YrcJ6QNTuxaj",
        "outputId": "6c4b82cf-7fc0-481a-ee60-9ac48f57db60"
      },
      "execution_count": 19,
      "outputs": [
        {
          "output_type": "stream",
          "name": "stdout",
          "text": [
            "['hello', 'world']\n"
          ]
        }
      ]
    },
    {
      "cell_type": "code",
      "source": [
        "# 048\n",
        "ticker = \"btc_krw\"\n",
        "print(ticker.split('_'))"
      ],
      "metadata": {
        "colab": {
          "base_uri": "https://localhost:8080/"
        },
        "id": "op4F80TbuxVC",
        "outputId": "4700d558-a9df-4057-da5a-738d5c757d22"
      },
      "execution_count": 18,
      "outputs": [
        {
          "output_type": "stream",
          "name": "stdout",
          "text": [
            "['btc', 'krw']\n"
          ]
        }
      ]
    },
    {
      "cell_type": "code",
      "source": [
        "# 049\n",
        "date = \"2020-05-01\"\n",
        "print(date.split('-'))"
      ],
      "metadata": {
        "colab": {
          "base_uri": "https://localhost:8080/"
        },
        "id": "v95G_B6AuxPM",
        "outputId": "bbf963c5-cf28-4b7c-f7da-254cf599a827"
      },
      "execution_count": 21,
      "outputs": [
        {
          "output_type": "stream",
          "name": "stdout",
          "text": [
            "['2020', '05', '01']\n"
          ]
        }
      ]
    },
    {
      "cell_type": "code",
      "source": [
        "# 050\n",
        "data = \"039490     \"\n",
        "print(data.rstrip())"
      ],
      "metadata": {
        "colab": {
          "base_uri": "https://localhost:8080/"
        },
        "id": "RyKZtQbKuw9f",
        "outputId": "b63892f9-b7d5-4a69-d65d-27589c91ae8f"
      },
      "execution_count": 22,
      "outputs": [
        {
          "output_type": "stream",
          "name": "stdout",
          "text": [
            "039490\n"
          ]
        }
      ]
    }
  ]
}